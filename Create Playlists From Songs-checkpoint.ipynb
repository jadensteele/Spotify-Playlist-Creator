{
 "cells": [
  {
   "cell_type": "code",
   "execution_count": null,
   "id": "797ba446",
   "metadata": {},
   "outputs": [],
   "source": [
    "import ipwidgets as widgets"
   ]
  },
  {
   "cell_type": "code",
   "execution_count": 177,
   "id": "781af34f",
   "metadata": {},
   "outputs": [],
   "source": [
    "import spotipy\n",
    "from spotipy.oauth2 import SpotifyClientCredentials\n",
    "\n",
    "CLIENT_ID = \"aaddcd39d3b94eff8d638832094ad11c\"\n",
    "CLIENT_SECRET = \"744795edffb748188abdf154a5078ea0\"\n",
    "\n",
    "auth_manager = SpotifyClientCredentials(CLIENT_ID,CLIENT_SECRET)\n",
    "sp = spotipy.Spotify(auth_manager=auth_manager)"
   ]
  },
  {
   "cell_type": "code",
   "execution_count": 178,
   "id": "859b18f5",
   "metadata": {
    "scrolled": true
   },
   "outputs": [
    {
     "name": "stdout",
     "output_type": "stream",
     "text": [
      "The Beatles\n",
      "\n",
      "The Beatles Complete On Ukulele\n",
      "\n",
      "Tony Sheridan\n",
      "\n",
      "The Beatles Recovered Band\n",
      "\n",
      "beatles\n",
      "\n",
      "The Beatles Revival Band\n",
      "\n",
      "The Silver Beatles\n",
      "\n",
      "The Tape-beatles\n",
      "\n",
      "Barack Obama with The Beatles Complete On Ukulele Community Choir\n",
      "\n",
      "The New Beatles\n",
      "\n"
     ]
    }
   ],
   "source": [
    "a = sp.search(q='The Beatles',type='artist',market='US')\n",
    "\n",
    "artistID = a['artists']['items'][0]['id']\n",
    "for item in a['artists']['items']:\n",
    "    print(item['name'] + '\\n')"
   ]
  },
  {
   "cell_type": "code",
   "execution_count": 179,
   "id": "626867c0",
   "metadata": {},
   "outputs": [
    {
     "name": "stdout",
     "output_type": "stream",
     "text": [
      "OK Human by Weezer\n"
     ]
    }
   ],
   "source": [
    "alb = sp.search(q=\"OK Human Weezer\",type='album',market='US')\n",
    "for item in alb['albums']['items']:\n",
    "    print(item['name'] + ' by ' + item['artists'][0]['name'])"
   ]
  },
  {
   "cell_type": "code",
   "execution_count": 180,
   "id": "c16e57fe",
   "metadata": {},
   "outputs": [
    {
     "name": "stdout",
     "output_type": "stream",
     "text": [
      "Dead Roses from OK Human by Weezer\n"
     ]
    }
   ],
   "source": [
    "track = sp.search(q=\"Dead Roses Weezer\", type='track', market='US')\n",
    "deadRoses = track['tracks']['items'][0]['id']\n",
    "for item in track['tracks']['items']:\n",
    "    print(item['name'] + ' from ' + item['album']['name'] + ' by ' + item['artists'][0]['name'])\n",
    "    \n",
    "track = sp.search(q=\"I Hate Everything About You\", type='track',market='US')\n",
    "iheay = track['tracks']['items'][0]['id']\n",
    "\n",
    "track = sp.search(q=\"Donna The Lumineers\",type='track',market='US')\n",
    "donna = track['tracks']['items'][0]['id']\n",
    "\n",
    "track = sp.search(q=\"Kiss the Rain Yiruma\", type='track', market='US')\n",
    "ktr = track['tracks']['items'][0]['id']\n",
    "\n",
    "track = sp.search(q=\"I've Got a Name Jim Croce\", type='track', market='US')\n",
    "igan = track['tracks']['items'][0]['id']"
   ]
  },
  {
   "cell_type": "code",
   "execution_count": 181,
   "id": "5d71044c",
   "metadata": {},
   "outputs": [
    {
     "name": "stdout",
     "output_type": "stream",
     "text": [
      "danceability: 0.491\n",
      "energy: 0.517\n",
      "loudness: -10.584\n",
      "speechiness: 0.0389\n",
      "acousticness: 0.151\n",
      "instrumentalness: 0.0126\n",
      "liveness: 0.12\n",
      "valence: 0.199\n",
      "tempo: 127.598\n",
      "key: 1\n",
      "mode: 0\n",
      "\n",
      "danceability: 0.498\n",
      "energy: 0.83\n",
      "loudness: -5.157\n",
      "speechiness: 0.0421\n",
      "acousticness: 0.00461\n",
      "instrumentalness: 0\n",
      "liveness: 0.139\n",
      "valence: 0.453\n",
      "tempo: 89.342\n",
      "key: 6\n",
      "mode: 0\n",
      "\n",
      "danceability: 0.49\n",
      "energy: 0.247\n",
      "loudness: -10.481\n",
      "speechiness: 0.035\n",
      "acousticness: 0.96\n",
      "instrumentalness: 1.78e-05\n",
      "liveness: 0.119\n",
      "valence: 0.282\n",
      "tempo: 134.121\n",
      "key: 4\n",
      "mode: 1\n",
      "\n",
      "danceability: 0.56\n",
      "energy: 0.0519\n",
      "loudness: -22.616\n",
      "speechiness: 0.0423\n",
      "acousticness: 0.99\n",
      "instrumentalness: 0.905\n",
      "liveness: 0.117\n",
      "valence: 0.182\n",
      "tempo: 132.691\n",
      "key: 8\n",
      "mode: 1\n",
      "\n",
      "danceability: 0.553\n",
      "energy: 0.652\n",
      "loudness: -11.625\n",
      "speechiness: 0.0403\n",
      "acousticness: 0.81\n",
      "instrumentalness: 1.71e-05\n",
      "liveness: 0.115\n",
      "valence: 0.66\n",
      "tempo: 86.988\n",
      "key: 4\n",
      "mode: 1\n",
      "\n"
     ]
    }
   ],
   "source": [
    "songs = [deadRoses,iheay,donna,ktr,igan]\n",
    "\n",
    "af = sp.audio_features(songs)\n",
    "for f in af:\n",
    "    print('danceability:',f['danceability'])\n",
    "    print('energy:',f['energy'])\n",
    "    print('loudness:',f['loudness'])\n",
    "    print('speechiness:',f['speechiness'])\n",
    "    print('acousticness:',f['acousticness'])\n",
    "    print('instrumentalness:',f['instrumentalness'])\n",
    "    print('liveness:',f['liveness'])\n",
    "    print('valence:',f['valence'])\n",
    "    print('tempo:',f['tempo'])\n",
    "    print('key:',f['key'])\n",
    "    print('mode:',f['mode'])\n",
    "    print()"
   ]
  },
  {
   "cell_type": "code",
   "execution_count": null,
   "id": "420df88a",
   "metadata": {},
   "outputs": [],
   "source": []
  }
 ],
 "metadata": {
  "kernelspec": {
   "display_name": "Python 3",
   "language": "python",
   "name": "python3"
  },
  "language_info": {
   "codemirror_mode": {
    "name": "ipython",
    "version": 3
   },
   "file_extension": ".py",
   "mimetype": "text/x-python",
   "name": "python",
   "nbconvert_exporter": "python",
   "pygments_lexer": "ipython3",
   "version": "3.8.8"
  }
 },
 "nbformat": 4,
 "nbformat_minor": 5
}
