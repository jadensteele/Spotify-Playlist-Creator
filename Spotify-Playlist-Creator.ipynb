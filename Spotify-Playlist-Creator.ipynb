{
 "cells": [
  {
   "cell_type": "code",
   "execution_count": 8,
   "id": "797ba446",
   "metadata": {},
   "outputs": [],
   "source": [
    "import ipywidgets as widgets"
   ]
  },
  {
   "cell_type": "code",
   "execution_count": 3,
   "id": "781af34f",
   "metadata": {},
   "outputs": [],
   "source": [
    "import spotipy\n",
    "from spotipy.oauth2 import SpotifyClientCredentials\n",
    "\n",
    "CLIENT_ID = \"aaddcd39d3b94eff8d638832094ad11c\"\n",
    "CLIENT_SECRET = \"744795edffb748188abdf154a5078ea0\"\n",
    "\n",
    "auth_manager = SpotifyClientCredentials(CLIENT_ID,CLIENT_SECRET)\n",
    "sp = spotipy.Spotify(auth_manager=auth_manager)"
   ]
  },
  {
   "cell_type": "code",
   "execution_count": 4,
   "id": "859b18f5",
   "metadata": {
    "scrolled": true
   },
   "outputs": [
    {
     "name": "stdout",
     "output_type": "stream",
     "text": [
      "The Beatles\n",
      "\n",
      "The Beatles Complete On Ukulele\n",
      "\n",
      "Tony Sheridan\n",
      "\n",
      "The Beatles Recovered Band\n",
      "\n",
      "beatles\n",
      "\n",
      "The Beatles Revival Band\n",
      "\n",
      "The Silver Beatles\n",
      "\n",
      "The Tape-beatles\n",
      "\n",
      "Barack Obama with The Beatles Complete On Ukulele Community Choir\n",
      "\n",
      "The Next Beatless\n",
      "\n"
     ]
    }
   ],
   "source": [
    "a = sp.search(q='The Beatles',type='artist',market='US')\n",
    "\n",
    "artistID = a['artists']['items'][0]['id']\n",
    "for item in a['artists']['items']:\n",
    "    print(item['name'] + '\\n')"
   ]
  },
  {
   "cell_type": "code",
   "execution_count": null,
   "id": "626867c0",
   "metadata": {},
   "outputs": [],
   "source": [
    "alb = sp.search(q=\"OK Human Weezer\",type='album',market='US')\n",
    "for item in alb['albums']['items']:\n",
    "    print(item['name'] + ' by ' + item['artists'][0]['name'])"
   ]
  },
  {
   "cell_type": "code",
   "execution_count": null,
   "id": "c16e57fe",
   "metadata": {},
   "outputs": [],
   "source": [
    "track = sp.search(q=\"Dead Roses Weezer\", type='track', market='US')\n",
    "deadRoses = track['tracks']['items'][0]['id']\n",
    "for item in track['tracks']['items']:\n",
    "    print(item['name'] + ' from ' + item['album']['name'] + ' by ' + item['artists'][0]['name'])\n",
    "    \n",
    "track = sp.search(q=\"I Hate Everything About You\", type='track',market='US')\n",
    "iheay = track['tracks']['items'][0]['id']\n",
    "\n",
    "track = sp.search(q=\"Donna The Lumineers\",type='track',market='US')\n",
    "donna = track['tracks']['items'][0]['id']\n",
    "\n",
    "track = sp.search(q=\"Kiss the Rain Yiruma\", type='track', market='US')\n",
    "ktr = track['tracks']['items'][0]['id']\n",
    "\n",
    "track = sp.search(q=\"I've Got a Name Jim Croce\", type='track', market='US')\n",
    "igan = track['tracks']['items'][0]['id']"
   ]
  },
  {
   "cell_type": "code",
   "execution_count": null,
   "id": "5d71044c",
   "metadata": {},
   "outputs": [],
   "source": [
    "songs = [deadRoses,iheay,donna,ktr,igan]\n",
    "\n",
    "af = sp.audio_features(songs)\n",
    "for f in af:\n",
    "    print('danceability:',f['danceability'])\n",
    "    print('energy:',f['energy'])\n",
    "    print('loudness:',f['loudness'])\n",
    "    print('speechiness:',f['speechiness'])\n",
    "    print('acousticness:',f['acousticness'])\n",
    "    print('instrumentalness:',f['instrumentalness'])\n",
    "    print('liveness:',f['liveness'])\n",
    "    print('valence:',f['valence'])\n",
    "    print('tempo:',f['tempo'])\n",
    "    print('key:',f['key'])\n",
    "    print('mode:',f['mode'])\n",
    "    print()"
   ]
  },
  {
   "cell_type": "code",
   "execution_count": null,
   "id": "420df88a",
   "metadata": {},
   "outputs": [],
   "source": []
  }
 ],
 "metadata": {
  "kernelspec": {
   "display_name": "Python 3",
   "language": "python",
   "name": "python3"
  },
  "language_info": {
   "codemirror_mode": {
    "name": "ipython",
    "version": 3
   },
   "file_extension": ".py",
   "mimetype": "text/x-python",
   "name": "python",
   "nbconvert_exporter": "python",
   "pygments_lexer": "ipython3",
   "version": "3.8.8"
  }
 },
 "nbformat": 4,
 "nbformat_minor": 5
}
